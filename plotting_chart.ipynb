{
 "cells": [
  {
   "cell_type": "code",
   "execution_count": null,
   "metadata": {},
   "outputs": [],
   "source": [
    "import pandas as pd\n",
    "import matplotlib.pyplot as plt\n",
    "%matplotlib inline"
   ]
  },
  {
   "cell_type": "code",
   "execution_count": null,
   "metadata": {},
   "outputs": [],
   "source": [
    "df = pd.read_csv(\"star_with_gravity.csv\")"
   ]
  },
  {
   "cell_type": "code",
   "execution_count": null,
   "metadata": {},
   "outputs": [],
   "source": [
    "df.head()"
   ]
  },
  {
   "cell_type": "code",
   "execution_count": null,
   "metadata": {},
   "outputs": [],
   "source": [
    "mass = df[\"Mass\"].to_list()\n",
    "radius = df[\"Radius\"].to_list()\n",
    "dist = df[\"Distance\"].to_list()\n",
    "gravity = df[\"Gravity\"].to_list()"
   ]
  },
  {
   "cell_type": "code",
   "execution_count": null,
   "metadata": {},
   "outputs": [],
   "source": [
    "mass.sort()\n",
    "radius.sort()\n",
    "gravity.sort()\n",
    "plt.plot(radius,mass)\n",
    "plt.title(\"Radius & Mass of the Star\")\n",
    "plt.xlabel(\"Radius\")\n",
    "plt.ylabel(\"Mass\")\n",
    "plt.show()"
   ]
  },
  {
   "cell_type": "code",
   "execution_count": null,
   "metadata": {},
   "outputs": [],
   "source": [
    "plt.plot(mass,gravity)\n",
    "plt.title(\"Mass vs Gravity\")\n",
    "plt.xlabel(\"Mass\")\n",
    "plt.ylabel(\"Gravity\")\n",
    "plt.show()"
   ]
  },
  {
   "cell_type": "code",
   "execution_count": null,
   "metadata": {},
   "outputs": [],
   "source": [
    "plt.scatter(radius,mass)\n",
    "plt.xlabel(\"Radius\")\n",
    "plt.ylabel(\"Mass\")\n",
    "plt.show()"
   ]
  }
 ],
 "metadata": {
  "language_info": {
   "name": "python"
  },
  "orig_nbformat": 4
 },
 "nbformat": 4,
 "nbformat_minor": 2
}
